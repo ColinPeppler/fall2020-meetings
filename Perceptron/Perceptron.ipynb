{
  "nbformat": 4,
  "nbformat_minor": 0,
  "metadata": {
    "colab": {
      "name": "Perceptron.ipynb",
      "provenance": []
    },
    "kernelspec": {
      "name": "python3",
      "display_name": "Python 3"
    }
  },
  "cells": [
    {
      "cell_type": "markdown",
      "metadata": {
        "id": "6k8oDWxZ7X6U",
        "colab_type": "text"
      },
      "source": [
        "<a href=\"https://colab.research.google.com/drive/1V2eIDX8t-mB6KZ4NGlH69ZMR0Jts7zVp\">\n",
        "  <img src=\"https://colab.research.google.com/assets/colab-badge.svg\" alt=\"Open In Colab\"/>\n",
        "</a>"
      ]
    },
    {
      "cell_type": "code",
      "metadata": {
        "id": "iNy6nHvQ2ElF",
        "colab_type": "code",
        "colab": {}
      },
      "source": [
        "import torch\n",
        "import numpy as np"
      ],
      "execution_count": 0,
      "outputs": []
    },
    {
      "cell_type": "code",
      "metadata": {
        "id": "QCQp15ra2G9z",
        "colab_type": "code",
        "outputId": "2c87f461-7abd-48c7-e7b4-d54536edb8ed",
        "colab": {
          "base_uri": "https://localhost:8080/",
          "height": 34
        }
      },
      "source": [
        "x = torch.ones(1, requires_grad=True)\n",
        "print(x.grad)"
      ],
      "execution_count": 0,
      "outputs": [
        {
          "output_type": "stream",
          "text": [
            "None\n"
          ],
          "name": "stdout"
        }
      ]
    },
    {
      "cell_type": "code",
      "metadata": {
        "id": "4cn1psSO2LU0",
        "colab_type": "code",
        "outputId": "f42caca2-4301-4974-9b23-3321dddb8c32",
        "colab": {
          "base_uri": "https://localhost:8080/",
          "height": 34
        }
      },
      "source": [
        "y = x + 1\n",
        "z = y * y * 2\n",
        "\n",
        "z.backward()\n",
        "print(x.grad)"
      ],
      "execution_count": 0,
      "outputs": [
        {
          "output_type": "stream",
          "text": [
            "tensor([8.])\n"
          ],
          "name": "stdout"
        }
      ]
    },
    {
      "cell_type": "code",
      "metadata": {
        "id": "D3wK2zMl3Bsh",
        "colab_type": "code",
        "colab": {}
      },
      "source": [
        "class Perceptron(torch.nn.Module):\n",
        "  def __init__(self):\n",
        "    super(Perceptron, self).__init__()\n",
        "\n",
        "    # This is our layer which acts as a dot product\n",
        "    INPUT_SIZE = 1\n",
        "    OUTPUT_SIZE = 1\n",
        "    self.fully_connected_layer = torch.nn.Linear(INPUT_SIZE, OUTPUT_SIZE)\n",
        "\n",
        "    # self.activation_function = Heaviside Step Function (only for classification)\n",
        "\n",
        "\n",
        "  # Make a prediction\n",
        "  def forward(self, input):\n",
        "    weighted_sum = self.fully_connected_layer(input)\n",
        "    return weighted_sum\n",
        "\n",
        "\n",
        "  # Train\n",
        "  def train(self, data):\n",
        "    NUM_EPOCHS = 500\n",
        "    ALPHA = 0.001\n",
        "\n",
        "    loss_function = torch.nn.L1Loss()\n",
        "    optimizer = torch.optim.SGD(self.parameters(), lr=ALPHA)    # haven't learned yet, but the way we want to optimize the weights\n",
        "\n",
        "    for epoch in range(NUM_EPOCHS):\n",
        "      for i, data_point in enumerate(data):\n",
        "        # define our (x, y) as a \"Tensor\", an array in PyTorch\n",
        "        x, y = iter(data_point)\n",
        "        x = torch.Tensor([x])\n",
        "        y = torch.Tensor([y])\n",
        "\n",
        "        optimizer.zero_grad()               # reset gradients from previous iteration\n",
        "\n",
        "        y_pred = model(x)                   # make a prediction\n",
        "        loss = loss_function(y_pred, y)     # calculate loss\n",
        "\n",
        "        loss.backward()                     # computes dloss/dw\n",
        "        optimizer.step()                    # updates weights\n",
        "\n",
        "        if epoch % 100 == 0 and i == 0:\n",
        "          print(\"Epoch {} - loss: {}\".format(epoch, loss.data))"
      ],
      "execution_count": 0,
      "outputs": []
    },
    {
      "cell_type": "markdown",
      "metadata": {
        "id": "PuXTHf7gPwdR",
        "colab_type": "text"
      },
      "source": [
        ""
      ]
    },
    {
      "cell_type": "code",
      "metadata": {
        "id": "WoL-AFTzZLf-",
        "colab_type": "code",
        "outputId": "87ff0c86-5763-48cf-dcee-11ffdaa27eef",
        "colab": {
          "base_uri": "https://localhost:8080/",
          "height": 265
        }
      },
      "source": [
        "data = torch.Tensor([(1,1), (1,2), (2,3), (3,9), (4,10), (5,11), (6,22), (7,20), (20, 100)])\n",
        "\n",
        "import matplotlib.pyplot as plt\n",
        "for x,y in data:\n",
        "  plt.scatter(x,y, color='b')"
      ],
      "execution_count": 0,
      "outputs": [
        {
          "output_type": "display_data",
          "data": {
            "image/png": "[encoded data removed]",
            "text/plain": [
              "<Figure size 432x288 with 1 Axes>"
            ]
          },
          "metadata": {
            "tags": []
          }
        }
      ]
    },
    {
      "cell_type": "code",
      "metadata": {
        "id": "VFUYCj7USMKQ",
        "colab_type": "code",
        "outputId": "d59eba70-ec4b-4bd3-b58d-d4008437c6d6",
        "colab": {
          "base_uri": "https://localhost:8080/",
          "height": 119
        }
      },
      "source": [
        "# Create & Train model\n",
        "model = Perceptron()\n",
        "model.train(data)\n",
        "# model.eval() does the same thing as model.train() but in \"evaluation\" mode\n",
        "\n",
        "# Test our model\n",
        "x_test = torch.Tensor([15])\n",
        "y_pred = model(x_test)\n",
        "print(y_pred)"
      ],
      "execution_count": 0,
      "outputs": [
        {
          "output_type": "stream",
          "text": [
            "Epoch 0 - loss: 0.5733660459518433\n",
            "Epoch 100 - loss: 2.932640552520752\n",
            "Epoch 200 - loss: 2.7326369285583496\n",
            "Epoch 300 - loss: 2.532644748687744\n",
            "Epoch 400 - loss: 2.3326468467712402\n",
            "tensor([56.4774], grad_fn=<AddBackward0>)\n"
          ],
          "name": "stdout"
        }
      ]
    },
    {
      "cell_type": "markdown",
      "metadata": {
        "id": "-EGs9uviNz0v",
        "colab_type": "text"
      },
      "source": [
        "What is a **tensor**? It's just an **n-dimensional array** in PyTorch. Basically, the same thing what an nparray is to numpy."
      ]
    }
  ]
}