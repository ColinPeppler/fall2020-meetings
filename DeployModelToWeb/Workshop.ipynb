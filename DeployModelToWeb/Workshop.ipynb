{
  "nbformat": 4,
  "nbformat_minor": 0,
  "metadata": {
    "colab": {
      "name": "Workshop.ipynb",
      "provenance": [],
      "include_colab_link": true
    },
    "kernelspec": {
      "name": "python3",
      "display_name": "Python 3"
    }
  },
  "cells": [
    {
      "cell_type": "markdown",
      "metadata": {
        "id": "view-in-github",
        "colab_type": "text"
      },
      "source": [
        "<a href=\"https://colab.research.google.com/github/ColinPeppler/spring2020-meetings/blob/master/DeployModelToWeb/Workshop.ipynb\" target=\"_parent\"><img src=\"https://colab.research.google.com/assets/colab-badge.svg\" alt=\"Open In Colab\"/></a>"
      ]
    },
    {
      "cell_type": "code",
      "metadata": {
        "id": "x5qg0jguckU3"
      },
      "source": [
        "from sklearn.feature_extraction.text import TfidfVectorizer\t\t# Vectorize sentences\n",
        "from sklearn.linear_model import LogisticRegression\t\t\t\t\t  # Creates a Naive Bayes model\n",
        "import pandas as pd\t\t\t\t\t\t\t\t\t\t\t\t                    # Stores data in a table"
      ],
      "execution_count": 1,
      "outputs": []
    },
    {
      "cell_type": "code",
      "metadata": {
        "id": "eO8hWnlodPoL"
      },
      "source": [
        "# Retrieving data directly from a github repo\n",
        "url = 'https://raw.githubusercontent.com/vt-ai-ml/fall2019-meetings/master/data/movie-pang02.csv'\n",
        "data = pd.read_csv(url)"
      ],
      "execution_count": 2,
      "outputs": []
    },
    {
      "cell_type": "code",
      "metadata": {
        "id": "QeIIxCZ4dRHN",
        "colab": {
          "base_uri": "https://localhost:8080/"
        },
        "outputId": "6c983651-f521-4e10-93b5-2840d0f97691"
      },
      "source": [
        "# A Vector Space Model where sentences are mapped to a vector space\n",
        "vsm = TfidfVectorizer(stop_words='english')\n",
        "\n",
        "\n",
        "# Get our data to fit our Logistic Regression model to\n",
        "X = vsm.fit_transform(data['text'])\n",
        "Y = data['class']\n",
        "my_model = LogisticRegression()\n",
        "my_model.fit(X, Y)"
      ],
      "execution_count": 3,
      "outputs": [
        {
          "output_type": "execute_result",
          "data": {
            "text/plain": [
              "LogisticRegression(C=1.0, class_weight=None, dual=False, fit_intercept=True,\n",
              "                   intercept_scaling=1, l1_ratio=None, max_iter=100,\n",
              "                   multi_class='auto', n_jobs=None, penalty='l2',\n",
              "                   random_state=None, solver='lbfgs', tol=0.0001, verbose=0,\n",
              "                   warm_start=False)"
            ]
          },
          "metadata": {
            "tags": []
          },
          "execution_count": 3
        }
      ]
    },
    {
      "cell_type": "code",
      "metadata": {
        "id": "YUxxRFxedUYc",
        "colab": {
          "base_uri": "https://localhost:8080/"
        },
        "outputId": "4b0a2049-6bc5-4668-e5f5-7d9c2b668ac7"
      },
      "source": [
        "# Transform these two samples into a vector\n",
        "sample = ['I love this amazing movie', 'this movie is ass']\n",
        "sample_vec = vsm.transform(sample)\n",
        "result = my_model.predict(sample_vec)\n",
        "\n",
        "print(sample[0] + ' is ' + result[0])\n",
        "print(sample[1] + ' is ' + result[1])"
      ],
      "execution_count": 4,
      "outputs": [
        {
          "output_type": "stream",
          "text": [
            "I love this amazing movie is Pos\n",
            "this movie is ass is Neg\n"
          ],
          "name": "stdout"
        }
      ]
    },
    {
      "cell_type": "code",
      "metadata": {
        "id": "RhFuFqwDd_5d",
        "colab": {
          "base_uri": "https://localhost:8080/"
        },
        "outputId": "75dcd66d-6b8f-44c7-e94f-41e6e737b640"
      },
      "source": [
        "# pip installs some modules we need that Colab doesn't come with already\n",
        "!pip install flask-ngrok\n",
        "!pip install flask-cors         "
      ],
      "execution_count": 5,
      "outputs": [
        {
          "output_type": "stream",
          "text": [
            "Requirement already satisfied: flask-ngrok in /usr/local/lib/python3.7/dist-packages (0.0.25)\n",
            "Requirement already satisfied: Flask>=0.8 in /usr/local/lib/python3.7/dist-packages (from flask-ngrok) (1.1.2)\n",
            "Requirement already satisfied: requests in /usr/local/lib/python3.7/dist-packages (from flask-ngrok) (2.23.0)\n",
            "Requirement already satisfied: Werkzeug>=0.15 in /usr/local/lib/python3.7/dist-packages (from Flask>=0.8->flask-ngrok) (1.0.1)\n",
            "Requirement already satisfied: itsdangerous>=0.24 in /usr/local/lib/python3.7/dist-packages (from Flask>=0.8->flask-ngrok) (1.1.0)\n",
            "Requirement already satisfied: click>=5.1 in /usr/local/lib/python3.7/dist-packages (from Flask>=0.8->flask-ngrok) (7.1.2)\n",
            "Requirement already satisfied: Jinja2>=2.10.1 in /usr/local/lib/python3.7/dist-packages (from Flask>=0.8->flask-ngrok) (2.11.3)\n",
            "Requirement already satisfied: certifi>=2017.4.17 in /usr/local/lib/python3.7/dist-packages (from requests->flask-ngrok) (2020.12.5)\n",
            "Requirement already satisfied: urllib3!=1.25.0,!=1.25.1,<1.26,>=1.21.1 in /usr/local/lib/python3.7/dist-packages (from requests->flask-ngrok) (1.24.3)\n",
            "Requirement already satisfied: idna<3,>=2.5 in /usr/local/lib/python3.7/dist-packages (from requests->flask-ngrok) (2.10)\n",
            "Requirement already satisfied: chardet<4,>=3.0.2 in /usr/local/lib/python3.7/dist-packages (from requests->flask-ngrok) (3.0.4)\n",
            "Requirement already satisfied: MarkupSafe>=0.23 in /usr/local/lib/python3.7/dist-packages (from Jinja2>=2.10.1->Flask>=0.8->flask-ngrok) (1.1.1)\n",
            "Requirement already satisfied: flask-cors in /usr/local/lib/python3.7/dist-packages (3.0.10)\n",
            "Requirement already satisfied: Flask>=0.9 in /usr/local/lib/python3.7/dist-packages (from flask-cors) (1.1.2)\n",
            "Requirement already satisfied: Six in /usr/local/lib/python3.7/dist-packages (from flask-cors) (1.15.0)\n",
            "Requirement already satisfied: click>=5.1 in /usr/local/lib/python3.7/dist-packages (from Flask>=0.9->flask-cors) (7.1.2)\n",
            "Requirement already satisfied: Werkzeug>=0.15 in /usr/local/lib/python3.7/dist-packages (from Flask>=0.9->flask-cors) (1.0.1)\n",
            "Requirement already satisfied: itsdangerous>=0.24 in /usr/local/lib/python3.7/dist-packages (from Flask>=0.9->flask-cors) (1.1.0)\n",
            "Requirement already satisfied: Jinja2>=2.10.1 in /usr/local/lib/python3.7/dist-packages (from Flask>=0.9->flask-cors) (2.11.3)\n",
            "Requirement already satisfied: MarkupSafe>=0.23 in /usr/local/lib/python3.7/dist-packages (from Jinja2>=2.10.1->Flask>=0.9->flask-cors) (1.1.1)\n"
          ],
          "name": "stdout"
        }
      ]
    },
    {
      "cell_type": "code",
      "metadata": {
        "id": "fvOFy2vKdusQ"
      },
      "source": [
        "import flask                                  # web dev framework to set up an endpoint for our http reqquest\n",
        "from flask_ngrok import run_with_ngrok        # gives our flask app a public url\n",
        "from flask_cors import CORS                   # enables cross origin resource sharing"
      ],
      "execution_count": 6,
      "outputs": []
    },
    {
      "cell_type": "code",
      "metadata": {
        "id": "eTDWmfemd5gi"
      },
      "source": [
        "# start our flask app\n",
        "app = flask.Flask(__name__)\n",
        "CORS(app)\n",
        "run_with_ngrok(app)"
      ],
      "execution_count": 7,
      "outputs": []
    },
    {
      "cell_type": "code",
      "metadata": {
        "id": "FIYgScL3d9Jy"
      },
      "source": [
        "@app.route('/predict', methods=['POST'])\n",
        "def predict():\n",
        "\t# Get our sentence from the POST request\n",
        "\tdata = flask.request.get_json(force=True)\n",
        "\tsentence = [data['sentence']]\t\t\t        # NOTE: vsm will only accept iterable objects, thus wrap in a list\n",
        "\n",
        "\t# Vectorize our sentence using VSM and predict using Naive Bayes model\n",
        "\tsentence_vec = vsm.transform(sentence)\n",
        "\tprediction = my_model.predict(sentence_vec)\n",
        "\toutput = prediction[0]\n",
        "\n",
        "\t# Return our prediction as a JSON object\n",
        "\tjson_output = flask.jsonify(str(output))\n",
        "\treturn json_output"
      ],
      "execution_count": 8,
      "outputs": []
    },
    {
      "cell_type": "markdown",
      "metadata": {
        "id": "Wv_Mdjicw6ed"
      },
      "source": [
        "When you run the cell before, note the ngrok url that's provided. \n",
        "\n",
        "The output we're interested in is: `Running on http://2a60c9ff37b2.ngrok.io`. However, you will get a different url than this.\n"
      ]
    },
    {
      "cell_type": "code",
      "metadata": {
        "id": "fyBGzRUredfO",
        "colab": {
          "base_uri": "https://localhost:8080/"
        },
        "outputId": "c5920277-0aa5-499f-9a2e-c3c2ed8a32be"
      },
      "source": [
        "app.run()"
      ],
      "execution_count": 9,
      "outputs": [
        {
          "output_type": "stream",
          "text": [
            " * Serving Flask app \"__main__\" (lazy loading)\n",
            " * Environment: production\n",
            "\u001b[31m   WARNING: This is a development server. Do not use it in a production deployment.\u001b[0m\n",
            "\u001b[2m   Use a production WSGI server instead.\u001b[0m\n",
            " * Debug mode: off\n"
          ],
          "name": "stdout"
        },
        {
          "output_type": "stream",
          "text": [
            " * Running on http://127.0.0.1:5000/ (Press CTRL+C to quit)\n"
          ],
          "name": "stderr"
        },
        {
          "output_type": "stream",
          "text": [
            " * Running on http://2a60c9ff37b2.ngrok.io\n",
            " * Traffic stats available on http://127.0.0.1:4040\n"
          ],
          "name": "stdout"
        }
      ]
    },
    {
      "cell_type": "markdown",
      "metadata": {
        "id": "90DpZgTzys_E"
      },
      "source": [
        "The github url provides an index.html file which is the code for our basic webpage. You can open the webpage by dragging the index.html file into the browser or running this in your terminal `open index.html` (make sure you do this in the directory where the index.html is stored).\n",
        "\n",
        "**HINT**: Replace the \\<url\\> (Line 38) in the index.html with the ngrok url you copied from the last cell.\n",
        "\n",
        "https://github.com/ColinPeppler/spring2020-meetings/blob/master/DeployModelToWeb/index.html\n",
        "\n"
      ]
    }
  ]
}